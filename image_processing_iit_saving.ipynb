{
  "cells": [
    {
      "cell_type": "markdown",
      "metadata": {
        "id": "00yTNzVGcuDR"
      },
      "source": [
        "# Image Processing"
      ]
    },
    {
      "cell_type": "code",
      "execution_count": null,
      "metadata": {
        "id": "_OBrobt3cuDe"
      },
      "outputs": [],
      "source": [
        "# Data Manipulation\n",
        "import pandas as pd\n",
        "import numpy as np\n",
        "\n",
        "# DataViz\n",
        "import seaborn as sns\n",
        "import matplotlib.pyplot as plt\n"
      ]
    },
    {
      "cell_type": "code",
      "execution_count": null,
      "metadata": {
        "id": "oUmpaQGEcuDf"
      },
      "outputs": [],
      "source": [
        "import scipy.io\n",
        "car_ann = scipy.io.loadmat('C:/Users/CHANDRAPRABASH/Desktop/IIT/IIT Assign3/devkit/cars_train_annos.mat', squeeze_me=True)"
      ]
    },
    {
      "cell_type": "code",
      "execution_count": null,
      "metadata": {
        "id": "UTM-Uws4cuDg",
        "outputId": "150cd8f5-bd43-4b10-ec7a-e6daa2aba502"
      },
      "outputs": [
        {
          "data": {
            "text/plain": [
              "{'__header__': b'MATLAB 5.0 MAT-file, Platform: GLNXA64, Created on: Sat Dec 14 14:13:07 2013',\n",
              " '__version__': '1.0',\n",
              " '__globals__': [],\n",
              " 'annotations': array([(39, 116, 569, 375, 14, '00001.jpg'),\n",
              "        (36, 116, 868, 587, 3, '00002.jpg'),\n",
              "        (85, 109, 601, 381, 91, '00003.jpg'), ...,\n",
              "        (26, 246, 660, 449, 163, '08142.jpg'),\n",
              "        (78, 526, 1489, 908, 112, '08143.jpg'),\n",
              "        (20, 240, 862, 677, 17, '08144.jpg')],\n",
              "       dtype=[('bbox_x1', 'O'), ('bbox_y1', 'O'), ('bbox_x2', 'O'), ('bbox_y2', 'O'), ('class', 'O'), ('fname', 'O')])}"
            ]
          },
          "execution_count": 35,
          "metadata": {},
          "output_type": "execute_result"
        }
      ],
      "source": [
        "car_ann"
      ]
    },
    {
      "cell_type": "code",
      "execution_count": null,
      "metadata": {
        "id": "pLBHjGNIcuDh",
        "outputId": "849ac1dd-66f9-4290-d325-ab4069ce8ffe"
      },
      "outputs": [
        {
          "data": {
            "text/plain": [
              "array([(39, 116, 569, 375, 14, '00001.jpg'),\n",
              "       (36, 116, 868, 587, 3, '00002.jpg'),\n",
              "       (85, 109, 601, 381, 91, '00003.jpg'), ...,\n",
              "       (26, 246, 660, 449, 163, '08142.jpg'),\n",
              "       (78, 526, 1489, 908, 112, '08143.jpg'),\n",
              "       (20, 240, 862, 677, 17, '08144.jpg')],\n",
              "      dtype=[('bbox_x1', 'O'), ('bbox_y1', 'O'), ('bbox_x2', 'O'), ('bbox_y2', 'O'), ('class', 'O'), ('fname', 'O')])"
            ]
          },
          "execution_count": 36,
          "metadata": {},
          "output_type": "execute_result"
        }
      ],
      "source": [
        "annotations = car_ann['annotations']\n",
        "annotations"
      ]
    },
    {
      "cell_type": "code",
      "execution_count": null,
      "metadata": {
        "id": "t1UMH6DAcuDi"
      },
      "outputs": [],
      "source": [
        "import numpy as np\n",
        "annotations = np.asarray(annotations)"
      ]
    },
    {
      "cell_type": "code",
      "execution_count": null,
      "metadata": {
        "id": "oE8_mP1IcuDi"
      },
      "outputs": [],
      "source": [
        "fnames = []\n",
        "class_ids = []\n",
        "bboxes = []\n",
        "labels = []"
      ]
    },
    {
      "cell_type": "code",
      "execution_count": null,
      "metadata": {
        "id": "xddZ3DtBcuDj"
      },
      "outputs": [],
      "source": [
        "for annotation in annotations:\n",
        "#     print(annotation[0],annotation[1],annotation[2],annotation[3],annotation[4],annotation[5])\n",
        "    bbox_x1 = annotation[0]\n",
        "    bbox_y1 = annotation[1]\n",
        "    bbox_x2 = annotation[2]\n",
        "    bbox_y2 = annotation[3]\n",
        "    class_id = annotation[4]\n",
        "    labels.append('%04d' % (class_id,))\n",
        "    fname = annotation[5]\n",
        "    bboxes.append((bbox_x1, bbox_y1, bbox_x2, bbox_y2))\n",
        "    class_ids.append(class_id)\n",
        "    fnames.append(fname)"
      ]
    },
    {
      "cell_type": "code",
      "execution_count": null,
      "metadata": {
        "id": "44SQNRy9cuDk",
        "outputId": "af62bcfa-8b01-427a-b9d3-7f37cbf3ccc0"
      },
      "outputs": [
        {
          "name": "stdout",
          "output_type": "stream",
          "text": [
            "[  1   2   3   4   5   6   7   8   9  10  11  12  13  14  15  16  17  18\n",
            "  19  20  21  22  23  24  25  26  27  28  29  30  31  32  33  34  35  36\n",
            "  37  38  39  40  41  42  43  44  45  46  47  48  49  50  51  52  53  54\n",
            "  55  56  57  58  59  60  61  62  63  64  65  66  67  68  69  70  71  72\n",
            "  73  74  75  76  77  78  79  80  81  82  83  84  85  86  87  88  89  90\n",
            "  91  92  93  94  95  96  97  98  99 100 101 102 103 104 105 106 107 108\n",
            " 109 110 111 112 113 114 115 116 117 118 119 120 121 122 123 124 125 126\n",
            " 127 128 129 130 131 132 133 134 135 136 137 138 139 140 141 142 143 144\n",
            " 145 146 147 148 149 150 151 152 153 154 155 156 157 158 159 160 161 162\n",
            " 163 164 165 166 167 168 169 170 171 172 173 174 175 176 177 178 179 180\n",
            " 181 182 183 184 185 186 187 188 189 190 191 192 193 194 195 196]\n",
            "The number of different cars is 196\n"
          ]
        }
      ],
      "source": [
        "labels_count = np.unique(class_ids).shape[0]\n",
        "print(np.unique(class_ids))\n",
        "print('The number of different cars is %d' % labels_count)"
      ]
    },
    {
      "cell_type": "code",
      "execution_count": null,
      "metadata": {
        "id": "LNGZiCXncuDl"
      },
      "outputs": [],
      "source": [
        "img_width, img_height = 224, 224"
      ]
    },
    {
      "cell_type": "code",
      "execution_count": null,
      "metadata": {
        "id": "xLVwqYzScuDl"
      },
      "outputs": [],
      "source": [
        "import os\n",
        "import cv2 as cv\n",
        "import shutil\n",
        "import random\n",
        "\n",
        "src_folder ='C:/Users/CHANDRAPRABASH/Desktop/IIT/cars_train'\n",
        "num_samples = len(fnames)\n",
        "\n",
        "train_split = 0.8\n",
        "num_train = int(round(num_samples * train_split))\n",
        "train_indexes = random.sample(range(num_samples), num_train)\n",
        "\n",
        "for i in range(num_samples):\n",
        "    fname = fnames[i]\n",
        "    label = labels[i]\n",
        "    (x1, y1, x2, y2) = bboxes[i]\n",
        "\n",
        "    src_path = os.path.join(src_folder, fname)\n",
        "    src_image = cv.imread(src_path)\n",
        "    height, width = src_image.shape[:2]\n",
        "    # margins of 16 pixels\n",
        "    margin = 16\n",
        "    x1 = max(0, x1 - margin)\n",
        "    y1 = max(0, y1 - margin)\n",
        "    x2 = min(x2 + margin, width)\n",
        "    y2 = min(y2 + margin, height)\n",
        "    # print(\"{} -> {}\".format(fname, label))\n",
        "#     pb.print_progress_bar((i + 1) * 100 / num_samples)\n",
        "\n",
        "    if i in train_indexes:\n",
        "        dst_folder = 'C:/Users/CHANDRAPRABASH/Desktop/IIT/IIT Assign3/train/'\n",
        "    else:\n",
        "        dst_folder = 'C:/Users/CHANDRAPRABASH/Desktop/IIT/IIT Assign3/valid/'\n",
        "\n",
        "    dst_path = os.path.join(dst_folder, label)\n",
        "    if not os.path.exists(dst_path):\n",
        "        os.makedirs(dst_path)\n",
        "    dst_path = os.path.join(dst_path, fname)\n",
        "\n",
        "    crop_image = src_image[y1:y2, x1:x2]\n",
        "    dst_img = cv.resize(src=crop_image, dsize=(img_height, img_width))\n",
        "    cv.imwrite(dst_path, dst_img)"
      ]
    },
    {
      "cell_type": "markdown",
      "metadata": {
        "id": "SRqTrvancuDx"
      },
      "source": [
        "<!-- # Not required # Plotting the pollutants concentration percentage -->"
      ]
    }
  ],
  "metadata": {
    "kernelspec": {
      "display_name": "Python 3 (ipykernel)",
      "language": "python",
      "name": "python3"
    },
    "language_info": {
      "codemirror_mode": {
        "name": "ipython",
        "version": 3
      },
      "file_extension": ".py",
      "mimetype": "text/x-python",
      "name": "python",
      "nbconvert_exporter": "python",
      "pygments_lexer": "ipython3",
      "version": "3.9.13"
    },
    "colab": {
      "provenance": []
    }
  },
  "nbformat": 4,
  "nbformat_minor": 0
}